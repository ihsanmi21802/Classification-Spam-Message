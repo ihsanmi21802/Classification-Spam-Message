{
 "cells": [
  {
   "cell_type": "code",
   "execution_count": 1,
   "id": "185c8b1b",
   "metadata": {},
   "outputs": [],
   "source": [
    "import pandas as pd\n",
    "import numpy as np\n",
    "import tensorflow as tf\n",
    "import requests\n",
    "from sklearn.preprocessing import LabelEncoder\n",
    "from sklearn.model_selection import train_test_split\n",
    "from tensorflow.keras.preprocessing.text import Tokenizer\n",
    "from tensorflow.keras.preprocessing.sequence import pad_sequences"
   ]
  },
  {
   "cell_type": "markdown",
   "id": "8385033f",
   "metadata": {},
   "source": [
    "# Data Preparation"
   ]
  },
  {
   "cell_type": "code",
   "execution_count": 2,
   "id": "ad218e07",
   "metadata": {},
   "outputs": [],
   "source": [
    "data = pd.read_csv('databaru.csv')"
   ]
  },
  {
   "cell_type": "code",
   "execution_count": 3,
   "id": "6cfe9ad1",
   "metadata": {},
   "outputs": [],
   "source": [
    "weather_mapping = {\n",
    "    'clear': 'Sunny',\n",
    "    'clouds': 'Sunny',\n",
    "    'haze': 'Sunny',\n",
    "    'rain': 'Rain',\n",
    "    'drizzle': 'Rain',\n",
    "    'thunderstorm': 'Rain',\n",
    "    'squall': 'Rain'\n",
    "}\n",
    "data['Weather'] = data['Weather'].map(weather_mapping)"
   ]
  },
  {
   "cell_type": "code",
   "execution_count": 4,
   "id": "02dd274a",
   "metadata": {},
   "outputs": [],
   "source": [
    "label_encoder = LabelEncoder()\n",
    "data['Weather'] = label_encoder.fit_transform(data['Weather'])"
   ]
  },
  {
   "cell_type": "markdown",
   "id": "43bb6ccc",
   "metadata": {},
   "source": [
    "# Weather Classification"
   ]
  },
  {
   "cell_type": "code",
   "execution_count": 5,
   "id": "f132c9db",
   "metadata": {},
   "outputs": [],
   "source": [
    "X = data['Place_Name'].values\n",
    "y = data['Weather'].values"
   ]
  },
  {
   "cell_type": "code",
   "execution_count": 6,
   "id": "8e6cd595",
   "metadata": {},
   "outputs": [],
   "source": [
    "y_encoded = label_encoder.fit_transform(y)"
   ]
  },
  {
   "cell_type": "code",
   "execution_count": 7,
   "id": "345ade32",
   "metadata": {},
   "outputs": [],
   "source": [
    "X_train, X_test, y_train, y_test = train_test_split(X, y_encoded, test_size=0.2, random_state=42)"
   ]
  },
  {
   "cell_type": "code",
   "execution_count": 8,
   "id": "92b34a38",
   "metadata": {},
   "outputs": [],
   "source": [
    "tokenizer = Tokenizer()\n",
    "tokenizer.fit_on_texts(X_train)"
   ]
  },
  {
   "cell_type": "code",
   "execution_count": 9,
   "id": "a5fff6ca",
   "metadata": {},
   "outputs": [],
   "source": [
    "X_train_seq = tokenizer.texts_to_sequences(X_train)\n",
    "X_test_seq = tokenizer.texts_to_sequences(X_test)"
   ]
  },
  {
   "cell_type": "code",
   "execution_count": 10,
   "id": "d52a7b7e",
   "metadata": {},
   "outputs": [],
   "source": [
    "max_seq_length = max(len(seq) for seq in X_train_seq)\n",
    "X_train_padded = pad_sequences(X_train_seq, maxlen=max_seq_length)\n",
    "X_test_padded = pad_sequences(X_test_seq, maxlen=max_seq_length)"
   ]
  },
  {
   "cell_type": "markdown",
   "id": "17067684",
   "metadata": {},
   "source": [
    "# Model"
   ]
  },
  {
   "cell_type": "code",
   "execution_count": 11,
   "id": "8f65a92a",
   "metadata": {},
   "outputs": [],
   "source": [
    "model = tf.keras.models.Sequential([\n",
    "    tf.keras.layers.Embedding(len(tokenizer.word_index) + 1, 16, input_length=max_seq_length),\n",
    "    tf.keras.layers.GlobalAveragePooling1D(),\n",
    "    tf.keras.layers.Dense(16, activation='relu'),\n",
    "    tf.keras.layers.Dense(1, activation='sigmoid')\n",
    "])"
   ]
  },
  {
   "cell_type": "code",
   "execution_count": 12,
   "id": "746a94e2",
   "metadata": {},
   "outputs": [],
   "source": [
    "model.compile(loss='binary_crossentropy', optimizer='adam', metrics=['accuracy'])"
   ]
  },
  {
   "cell_type": "code",
   "execution_count": 13,
   "id": "4a221f34",
   "metadata": {},
   "outputs": [
    {
     "name": "stdout",
     "output_type": "stream",
     "text": [
      "Epoch 1/10\n",
      "12/12 [==============================] - 2s 6ms/step - loss: 0.6684 - accuracy: 0.9972\n",
      "Epoch 2/10\n",
      "12/12 [==============================] - 0s 6ms/step - loss: 0.6328 - accuracy: 1.0000\n",
      "Epoch 3/10\n",
      "12/12 [==============================] - 0s 5ms/step - loss: 0.5957 - accuracy: 1.0000\n",
      "Epoch 4/10\n",
      "12/12 [==============================] - 0s 5ms/step - loss: 0.5538 - accuracy: 1.0000\n",
      "Epoch 5/10\n",
      "12/12 [==============================] - 0s 5ms/step - loss: 0.5056 - accuracy: 1.0000\n",
      "Epoch 6/10\n",
      "12/12 [==============================] - 0s 5ms/step - loss: 0.4510 - accuracy: 1.0000\n",
      "Epoch 7/10\n",
      "12/12 [==============================] - 0s 4ms/step - loss: 0.3916 - accuracy: 1.0000\n",
      "Epoch 8/10\n",
      "12/12 [==============================] - 0s 5ms/step - loss: 0.3303 - accuracy: 1.0000\n",
      "Epoch 9/10\n",
      "12/12 [==============================] - 0s 5ms/step - loss: 0.2706 - accuracy: 1.0000\n",
      "Epoch 10/10\n",
      "12/12 [==============================] - 0s 5ms/step - loss: 0.2159 - accuracy: 1.0000\n"
     ]
    },
    {
     "data": {
      "text/plain": [
       "<keras.callbacks.History at 0x199237396f0>"
      ]
     },
     "execution_count": 13,
     "metadata": {},
     "output_type": "execute_result"
    }
   ],
   "source": [
    "model.fit(X_train_padded, y_train, epochs=10, batch_size=32, verbose=1)"
   ]
  },
  {
   "cell_type": "code",
   "execution_count": 14,
   "id": "fd94ba8e",
   "metadata": {},
   "outputs": [],
   "source": [
    "city_to_coordinates = {\n",
    "    'Jakarta Pusat': (-6.186486, 106.834091),\n",
    "    'Jakarta Barat': (-6.135200, 106.813301),\n",
    "    'Jakarta Timur': (-6.230702, 106.882744),\n",
    "    'Jakarta Selatan': (-6.300641, 106.814095)\n",
    "}"
   ]
  },
  {
   "cell_type": "code",
   "execution_count": 15,
   "id": "5eac4411",
   "metadata": {},
   "outputs": [
    {
     "name": "stdin",
     "output_type": "stream",
     "text": [
      "Enter your city (Jakarta Pusat, Jakarta Barat, Jakarta Timur, Jakarta Selatan):  Jakarta Selatan\n"
     ]
    }
   ],
   "source": [
    "city = input(\"Enter your city (Jakarta Pusat, Jakarta Barat, Jakarta Timur, Jakarta Selatan): \")"
   ]
  },
  {
   "cell_type": "code",
   "execution_count": 16,
   "id": "19ebe74e",
   "metadata": {
    "scrolled": true
   },
   "outputs": [
    {
     "ename": "ValueError",
     "evalue": "in user code:\n\n    File \"C:\\Users\\ihsan\\miniconda3\\lib\\site-packages\\keras\\engine\\training.py\", line 2169, in predict_function  *\n        return step_function(self, iterator)\n    File \"C:\\Users\\ihsan\\miniconda3\\lib\\site-packages\\keras\\engine\\training.py\", line 2155, in step_function  **\n        outputs = model.distribute_strategy.run(run_step, args=(data,))\n    File \"C:\\Users\\ihsan\\miniconda3\\lib\\site-packages\\keras\\engine\\training.py\", line 2143, in run_step  **\n        outputs = model.predict_step(data)\n    File \"C:\\Users\\ihsan\\miniconda3\\lib\\site-packages\\keras\\engine\\training.py\", line 2111, in predict_step\n        return self(x, training=False)\n    File \"C:\\Users\\ihsan\\miniconda3\\lib\\site-packages\\keras\\utils\\traceback_utils.py\", line 70, in error_handler\n        raise e.with_traceback(filtered_tb) from None\n    File \"C:\\Users\\ihsan\\miniconda3\\lib\\site-packages\\keras\\engine\\input_spec.py\", line 235, in assert_input_compatibility\n        raise ValueError(\n\n    ValueError: Exception encountered when calling layer 'sequential' (type Sequential).\n    \n    Input 0 of layer \"global_average_pooling1d\" is incompatible with the layer: expected ndim=3, found ndim=2. Full shape received: (None, 16)\n    \n    Call arguments received by layer 'sequential' (type Sequential):\n      • inputs=tf.Tensor(shape=(None,), dtype=string)\n      • training=False\n      • mask=None\n",
     "output_type": "error",
     "traceback": [
      "\u001b[1;31m---------------------------------------------------------------------------\u001b[0m",
      "\u001b[1;31mValueError\u001b[0m                                Traceback (most recent call last)",
      "Cell \u001b[1;32mIn[16], line 18\u001b[0m\n\u001b[0;32m     15\u001b[0m     \u001b[38;5;28mprint\u001b[39m(\u001b[38;5;124mf\u001b[39m\u001b[38;5;124m\"\u001b[39m\u001b[38;5;124mUnknown weather description: \u001b[39m\u001b[38;5;132;01m{\u001b[39;00mweather_description\u001b[38;5;132;01m}\u001b[39;00m\u001b[38;5;124m\"\u001b[39m)\n\u001b[0;32m     16\u001b[0m     exit()\n\u001b[1;32m---> 18\u001b[0m predicted_probabilities \u001b[38;5;241m=\u001b[39m \u001b[43mmodel\u001b[49m\u001b[38;5;241;43m.\u001b[39;49m\u001b[43mpredict\u001b[49m\u001b[43m(\u001b[49m\u001b[43mnp\u001b[49m\u001b[38;5;241;43m.\u001b[39;49m\u001b[43marray\u001b[49m\u001b[43m(\u001b[49m\u001b[43m[\u001b[49m\u001b[43mmapped_weather\u001b[49m\u001b[43m]\u001b[49m\u001b[43m)\u001b[49m\u001b[43m)\u001b[49m\n\u001b[0;32m     19\u001b[0m predicted_label_index \u001b[38;5;241m=\u001b[39m np\u001b[38;5;241m.\u001b[39margmax(predicted_probabilities)\n\u001b[0;32m     20\u001b[0m predicted_weather \u001b[38;5;241m=\u001b[39m label_encoder\u001b[38;5;241m.\u001b[39minverse_transform([predicted_label_index])[\u001b[38;5;241m0\u001b[39m]\n",
      "File \u001b[1;32m~\\miniconda3\\lib\\site-packages\\keras\\utils\\traceback_utils.py:70\u001b[0m, in \u001b[0;36mfilter_traceback.<locals>.error_handler\u001b[1;34m(*args, **kwargs)\u001b[0m\n\u001b[0;32m     67\u001b[0m     filtered_tb \u001b[38;5;241m=\u001b[39m _process_traceback_frames(e\u001b[38;5;241m.\u001b[39m__traceback__)\n\u001b[0;32m     68\u001b[0m     \u001b[38;5;66;03m# To get the full stack trace, call:\u001b[39;00m\n\u001b[0;32m     69\u001b[0m     \u001b[38;5;66;03m# `tf.debugging.disable_traceback_filtering()`\u001b[39;00m\n\u001b[1;32m---> 70\u001b[0m     \u001b[38;5;28;01mraise\u001b[39;00m e\u001b[38;5;241m.\u001b[39mwith_traceback(filtered_tb) \u001b[38;5;28;01mfrom\u001b[39;00m \u001b[38;5;28;01mNone\u001b[39;00m\n\u001b[0;32m     71\u001b[0m \u001b[38;5;28;01mfinally\u001b[39;00m:\n\u001b[0;32m     72\u001b[0m     \u001b[38;5;28;01mdel\u001b[39;00m filtered_tb\n",
      "File \u001b[1;32m~\\AppData\\Local\\Temp\\__autograph_generated_file_6zwhxrn.py:15\u001b[0m, in \u001b[0;36mouter_factory.<locals>.inner_factory.<locals>.tf__predict_function\u001b[1;34m(iterator)\u001b[0m\n\u001b[0;32m     13\u001b[0m \u001b[38;5;28;01mtry\u001b[39;00m:\n\u001b[0;32m     14\u001b[0m     do_return \u001b[38;5;241m=\u001b[39m \u001b[38;5;28;01mTrue\u001b[39;00m\n\u001b[1;32m---> 15\u001b[0m     retval_ \u001b[38;5;241m=\u001b[39m ag__\u001b[38;5;241m.\u001b[39mconverted_call(ag__\u001b[38;5;241m.\u001b[39mld(step_function), (ag__\u001b[38;5;241m.\u001b[39mld(\u001b[38;5;28mself\u001b[39m), ag__\u001b[38;5;241m.\u001b[39mld(iterator)), \u001b[38;5;28;01mNone\u001b[39;00m, fscope)\n\u001b[0;32m     16\u001b[0m \u001b[38;5;28;01mexcept\u001b[39;00m:\n\u001b[0;32m     17\u001b[0m     do_return \u001b[38;5;241m=\u001b[39m \u001b[38;5;28;01mFalse\u001b[39;00m\n",
      "\u001b[1;31mValueError\u001b[0m: in user code:\n\n    File \"C:\\Users\\ihsan\\miniconda3\\lib\\site-packages\\keras\\engine\\training.py\", line 2169, in predict_function  *\n        return step_function(self, iterator)\n    File \"C:\\Users\\ihsan\\miniconda3\\lib\\site-packages\\keras\\engine\\training.py\", line 2155, in step_function  **\n        outputs = model.distribute_strategy.run(run_step, args=(data,))\n    File \"C:\\Users\\ihsan\\miniconda3\\lib\\site-packages\\keras\\engine\\training.py\", line 2143, in run_step  **\n        outputs = model.predict_step(data)\n    File \"C:\\Users\\ihsan\\miniconda3\\lib\\site-packages\\keras\\engine\\training.py\", line 2111, in predict_step\n        return self(x, training=False)\n    File \"C:\\Users\\ihsan\\miniconda3\\lib\\site-packages\\keras\\utils\\traceback_utils.py\", line 70, in error_handler\n        raise e.with_traceback(filtered_tb) from None\n    File \"C:\\Users\\ihsan\\miniconda3\\lib\\site-packages\\keras\\engine\\input_spec.py\", line 235, in assert_input_compatibility\n        raise ValueError(\n\n    ValueError: Exception encountered when calling layer 'sequential' (type Sequential).\n    \n    Input 0 of layer \"global_average_pooling1d\" is incompatible with the layer: expected ndim=3, found ndim=2. Full shape received: (None, 16)\n    \n    Call arguments received by layer 'sequential' (type Sequential):\n      • inputs=tf.Tensor(shape=(None,), dtype=string)\n      • training=False\n      • mask=None\n"
     ]
    }
   ],
   "source": [
    "if city not in city_to_coordinates:\n",
    "    print(\"Invalid city!\")\n",
    "else:\n",
    "    latitude, longitude = city_to_coordinates[city]\n",
    "    \n",
    "    url = f'http://api.openweathermap.org/data/2.5/weather?lat={latitude}&lon={longitude}&appid=6efe5d86568540c60dfc5ba4a75a7bbe'\n",
    "\n",
    "    response = requests.get(url)\n",
    "    weather_data = response.json()\n",
    "    weather_description = weather_data['weather'][0]['main'].lower()\n",
    "\n",
    "    if weather_description in weather_mapping:\n",
    "        mapped_weather = weather_mapping[weather_description]\n",
    "    else:\n",
    "        print(f\"Unknown weather description: {weather_description}\")\n",
    "        exit()\n",
    "        \n",
    "    predicted_probabilities = model.predict(np.array([mapped_weather]))\n",
    "    predicted_label_index = np.argmax(predicted_probabilities)\n",
    "    predicted_weather = label_encoder.inverse_transform([predicted_label_index])[0]\n",
    "\n",
    "    recommended_attractions = data[data['Weather'] == predicted_weather]['Place_Name'].unique()\n",
    "    if len(recommended_attractions) > 0:\n",
    "        print(f\"Recommended attractions in {city} based on the weather ({weather_description}):\")\n",
    "        for attraction in recommended_attractions:\n",
    "            print(attraction)\n",
    "    else:\n",
    "        print(f\"No attractions found for the current weather in {city}.\")"
   ]
  },
  {
   "cell_type": "code",
   "execution_count": null,
   "id": "faa827cf",
   "metadata": {},
   "outputs": [],
   "source": [
    "    predicted_probabilities = model.predict(np.array([mapped_weather]))\n",
    "    predicted_label_index = np.argmax(predicted_probabilities)\n",
    "    predicted_weather = label_encoder.inverse_transform([predicted_label_index])[0]\n",
    "\n",
    "    recommended_attractions = data[data['Weather'] == predicted_weather]['Place_Name'].unique()\n",
    "    if len(recommended_attractions) > 0:\n",
    "        print(f\"Recommended attractions in {city} based on the weather ({weather_description}):\")\n",
    "        for attraction in recommended_attractions:\n",
    "            print(attraction)\n",
    "    else:\n",
    "        print(f\"No attractions found for the current weather in {city}.\")"
   ]
  },
  {
   "cell_type": "code",
   "execution_count": null,
   "id": "29d59003",
   "metadata": {},
   "outputs": [],
   "source": [
    "print(latitude)"
   ]
  },
  {
   "cell_type": "code",
   "execution_count": null,
   "id": "2f7bb313",
   "metadata": {},
   "outputs": [],
   "source": [
    "print(response.status_code)"
   ]
  },
  {
   "cell_type": "code",
   "execution_count": 38,
   "id": "bd32a3e3",
   "metadata": {},
   "outputs": [
    {
     "name": "stdout",
     "output_type": "stream",
     "text": [
      "{'coord': {'lon': 106.8327, 'lat': -6.1864}, 'weather': [{'id': 721, 'main': 'Haze', 'description': 'haze', 'icon': '50n'}, {'id': 500, 'main': 'Rain', 'description': 'light rain', 'icon': '10n'}], 'base': 'stations', 'main': {'temp': 300, 'feels_like': 302.73, 'temp_min': 298.68, 'temp_max': 301.01, 'pressure': 1012, 'humidity': 82}, 'visibility': 5000, 'wind': {'speed': 1.54, 'deg': 240}, 'rain': {'1h': 0.87}, 'clouds': {'all': 40}, 'dt': 1685460448, 'sys': {'type': 1, 'id': 9383, 'country': 'ID', 'sunrise': 1685400994, 'sunset': 1685443440}, 'timezone': 25200, 'id': 1631845, 'name': 'Pecenongan', 'cod': 200}\n"
     ]
    }
   ],
   "source": [
    "print(weather_data)"
   ]
  },
  {
   "cell_type": "code",
   "execution_count": 39,
   "id": "8ffc4d69",
   "metadata": {},
   "outputs": [
    {
     "name": "stdout",
     "output_type": "stream",
     "text": [
      "haze\n"
     ]
    }
   ],
   "source": [
    "print(weather_description)"
   ]
  },
  {
   "cell_type": "code",
   "execution_count": 40,
   "id": "cc01d5e8",
   "metadata": {},
   "outputs": [
    {
     "name": "stdout",
     "output_type": "stream",
     "text": [
      "Sunny\n"
     ]
    }
   ],
   "source": [
    "print(mapped_weather)"
   ]
  }
 ],
 "metadata": {
  "kernelspec": {
   "display_name": "Python 3 (ipykernel)",
   "language": "python",
   "name": "python3"
  },
  "language_info": {
   "codemirror_mode": {
    "name": "ipython",
    "version": 3
   },
   "file_extension": ".py",
   "mimetype": "text/x-python",
   "name": "python",
   "nbconvert_exporter": "python",
   "pygments_lexer": "ipython3",
   "version": "3.10.10"
  }
 },
 "nbformat": 4,
 "nbformat_minor": 5
}
