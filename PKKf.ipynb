{
 "cells": [
  {
   "cell_type": "code",
   "execution_count": 1,
   "id": "0f086be7-22b8-4ea4-88c4-561a685b676a",
   "metadata": {
    "tags": []
   },
   "outputs": [],
   "source": [
    "import pandas as pd\n",
    "import numpy as np"
   ]
  },
  {
   "cell_type": "code",
   "execution_count": 2,
   "id": "a078dad5-34d7-4d14-bf13-3fb289b81f44",
   "metadata": {},
   "outputs": [],
   "source": [
    "byte_sequence = b'\\x80\\x81...'\n",
    "decoded_string = byte_sequence.decode('utf-8', errors='ignore')"
   ]
  },
  {
   "cell_type": "code",
   "execution_count": 3,
   "id": "8f85c7da-1474-4505-ac6c-99be12c2a87b",
   "metadata": {
    "tags": []
   },
   "outputs": [],
   "source": [
    "df=pd.read_csv(\"C:/Users/ihsan/Downloads/spam.csv\",encoding=('ISO-8859-1'))"
   ]
  },
  {
   "cell_type": "code",
   "execution_count": 4,
   "id": "f7c8e892-056d-47ce-a6f2-6cb33b916fbe",
   "metadata": {
    "tags": []
   },
   "outputs": [
    {
     "data": {
      "text/html": [
       "<div>\n",
       "<style scoped>\n",
       "    .dataframe tbody tr th:only-of-type {\n",
       "        vertical-align: middle;\n",
       "    }\n",
       "\n",
       "    .dataframe tbody tr th {\n",
       "        vertical-align: top;\n",
       "    }\n",
       "\n",
       "    .dataframe thead th {\n",
       "        text-align: right;\n",
       "    }\n",
       "</style>\n",
       "<table border=\"1\" class=\"dataframe\">\n",
       "  <thead>\n",
       "    <tr style=\"text-align: right;\">\n",
       "      <th></th>\n",
       "      <th>v1</th>\n",
       "      <th>v2</th>\n",
       "      <th>Unnamed: 2</th>\n",
       "      <th>Unnamed: 3</th>\n",
       "      <th>Unnamed: 4</th>\n",
       "    </tr>\n",
       "  </thead>\n",
       "  <tbody>\n",
       "    <tr>\n",
       "      <th>0</th>\n",
       "      <td>ham</td>\n",
       "      <td>Go until jurong point, crazy.. Available only ...</td>\n",
       "      <td>NaN</td>\n",
       "      <td>NaN</td>\n",
       "      <td>NaN</td>\n",
       "    </tr>\n",
       "    <tr>\n",
       "      <th>1</th>\n",
       "      <td>ham</td>\n",
       "      <td>Ok lar... Joking wif u oni...</td>\n",
       "      <td>NaN</td>\n",
       "      <td>NaN</td>\n",
       "      <td>NaN</td>\n",
       "    </tr>\n",
       "    <tr>\n",
       "      <th>2</th>\n",
       "      <td>spam</td>\n",
       "      <td>Free entry in 2 a wkly comp to win FA Cup fina...</td>\n",
       "      <td>NaN</td>\n",
       "      <td>NaN</td>\n",
       "      <td>NaN</td>\n",
       "    </tr>\n",
       "    <tr>\n",
       "      <th>3</th>\n",
       "      <td>ham</td>\n",
       "      <td>U dun say so early hor... U c already then say...</td>\n",
       "      <td>NaN</td>\n",
       "      <td>NaN</td>\n",
       "      <td>NaN</td>\n",
       "    </tr>\n",
       "    <tr>\n",
       "      <th>4</th>\n",
       "      <td>ham</td>\n",
       "      <td>Nah I don't think he goes to usf, he lives aro...</td>\n",
       "      <td>NaN</td>\n",
       "      <td>NaN</td>\n",
       "      <td>NaN</td>\n",
       "    </tr>\n",
       "    <tr>\n",
       "      <th>...</th>\n",
       "      <td>...</td>\n",
       "      <td>...</td>\n",
       "      <td>...</td>\n",
       "      <td>...</td>\n",
       "      <td>...</td>\n",
       "    </tr>\n",
       "    <tr>\n",
       "      <th>5567</th>\n",
       "      <td>spam</td>\n",
       "      <td>This is the 2nd time we have tried 2 contact u...</td>\n",
       "      <td>NaN</td>\n",
       "      <td>NaN</td>\n",
       "      <td>NaN</td>\n",
       "    </tr>\n",
       "    <tr>\n",
       "      <th>5568</th>\n",
       "      <td>ham</td>\n",
       "      <td>Will Ì_ b going to esplanade fr home?</td>\n",
       "      <td>NaN</td>\n",
       "      <td>NaN</td>\n",
       "      <td>NaN</td>\n",
       "    </tr>\n",
       "    <tr>\n",
       "      <th>5569</th>\n",
       "      <td>ham</td>\n",
       "      <td>Pity, * was in mood for that. So...any other s...</td>\n",
       "      <td>NaN</td>\n",
       "      <td>NaN</td>\n",
       "      <td>NaN</td>\n",
       "    </tr>\n",
       "    <tr>\n",
       "      <th>5570</th>\n",
       "      <td>ham</td>\n",
       "      <td>The guy did some bitching but I acted like i'd...</td>\n",
       "      <td>NaN</td>\n",
       "      <td>NaN</td>\n",
       "      <td>NaN</td>\n",
       "    </tr>\n",
       "    <tr>\n",
       "      <th>5571</th>\n",
       "      <td>ham</td>\n",
       "      <td>Rofl. Its true to its name</td>\n",
       "      <td>NaN</td>\n",
       "      <td>NaN</td>\n",
       "      <td>NaN</td>\n",
       "    </tr>\n",
       "  </tbody>\n",
       "</table>\n",
       "<p>5572 rows × 5 columns</p>\n",
       "</div>"
      ],
      "text/plain": [
       "        v1                                                 v2 Unnamed: 2  \\\n",
       "0      ham  Go until jurong point, crazy.. Available only ...        NaN   \n",
       "1      ham                      Ok lar... Joking wif u oni...        NaN   \n",
       "2     spam  Free entry in 2 a wkly comp to win FA Cup fina...        NaN   \n",
       "3      ham  U dun say so early hor... U c already then say...        NaN   \n",
       "4      ham  Nah I don't think he goes to usf, he lives aro...        NaN   \n",
       "...    ...                                                ...        ...   \n",
       "5567  spam  This is the 2nd time we have tried 2 contact u...        NaN   \n",
       "5568   ham              Will Ì_ b going to esplanade fr home?        NaN   \n",
       "5569   ham  Pity, * was in mood for that. So...any other s...        NaN   \n",
       "5570   ham  The guy did some bitching but I acted like i'd...        NaN   \n",
       "5571   ham                         Rofl. Its true to its name        NaN   \n",
       "\n",
       "     Unnamed: 3 Unnamed: 4  \n",
       "0           NaN        NaN  \n",
       "1           NaN        NaN  \n",
       "2           NaN        NaN  \n",
       "3           NaN        NaN  \n",
       "4           NaN        NaN  \n",
       "...         ...        ...  \n",
       "5567        NaN        NaN  \n",
       "5568        NaN        NaN  \n",
       "5569        NaN        NaN  \n",
       "5570        NaN        NaN  \n",
       "5571        NaN        NaN  \n",
       "\n",
       "[5572 rows x 5 columns]"
      ]
     },
     "execution_count": 4,
     "metadata": {},
     "output_type": "execute_result"
    }
   ],
   "source": [
    "df"
   ]
  },
  {
   "cell_type": "code",
   "execution_count": 6,
   "id": "393bbdf9-84a6-4859-b966-27acf51b0aa2",
   "metadata": {
    "tags": []
   },
   "outputs": [
    {
     "data": {
      "image/png": "[encoded data removed]",
      "text/plain": [
       "<Figure size 640x480 with 1 Axes>"
      ]
     },
     "metadata": {},
     "output_type": "display_data"
    }
   ],
   "source": [
    "import matplotlib.pyplot as plt\n",
    "category_counts = df['v1'].value_counts()\n",
    "\n",
    "\n",
    "categories = category_counts.index.tolist()\n",
    "count = category_counts.values.tolist()\n",
    "\n",
    "\n",
    "plt.bar(categories, count,)\n",
    "\n",
    "\n",
    "plt.xticks(rotation=0, ha='left')\n",
    "plt.xlabel('Keworthitan')\n",
    "plt.ylabel('Jumlah')\n",
    "\n",
    "\n",
    "plt.title('Distribusi Tempat Worthit atau Tidak')\n",
    "\n",
    "\n",
    "plt.show()\n"
   ]
  },
  {
   "cell_type": "code",
   "execution_count": null,
   "id": "986982f0-e9d3-46f2-a599-cbbfc5082546",
   "metadata": {},
   "outputs": [],
   "source": []
  },
  {
   "cell_type": "markdown",
   "id": "c15ce426-c1bd-4bf8-8c0e-bdad759b66f1",
   "metadata": {},
   "source": [
    "# Data Cleaning"
   ]
  },
  {
   "cell_type": "markdown",
   "id": "645d3059-b7ed-4e54-b7b7-b631a84c8259",
   "metadata": {},
   "source": [
    "# Menghapus Tanda Baca"
   ]
  },
  {
   "cell_type": "code",
   "execution_count": 7,
   "id": "4c2c914c-0937-4818-9963-740889e8bd60",
   "metadata": {
    "tags": []
   },
   "outputs": [],
   "source": [
    "import re\n",
    "def remove_special_characters(text):\n",
    "    pattern = r'[^a-zA-Z0-9\\s]'\n",
    "    cleaned_text = re.sub(pattern, '', text)\n",
    "    return cleaned_text\n",
    "\n"
   ]
  },
  {
   "cell_type": "code",
   "execution_count": 8,
   "id": "04d4724c-9912-4808-83f6-be9412e5b299",
   "metadata": {
    "tags": []
   },
   "outputs": [],
   "source": [
    "df['v2'] = df['v2'].astype(str)"
   ]
  },
  {
   "cell_type": "code",
   "execution_count": 9,
   "id": "f156df22-eff3-4230-888e-f343cae0eb96",
   "metadata": {
    "tags": []
   },
   "outputs": [],
   "source": [
    "df['v2'] = df['v2'].apply(remove_special_characters)"
   ]
  },
  {
   "cell_type": "code",
   "execution_count": 10,
   "id": "5bddf047-cc52-48bb-9ad3-9ff232c9927c",
   "metadata": {
    "tags": []
   },
   "outputs": [
    {
     "name": "stdout",
     "output_type": "stream",
     "text": [
      "0       Go until jurong point crazy Available only in ...\n",
      "1                                 Ok lar Joking wif u oni\n",
      "2       Free entry in 2 a wkly comp to win FA Cup fina...\n",
      "3             U dun say so early hor U c already then say\n",
      "4       Nah I dont think he goes to usf he lives aroun...\n",
      "                              ...                        \n",
      "5567    This is the 2nd time we have tried 2 contact u...\n",
      "5568                   Will  b going to esplanade fr home\n",
      "5569    Pity  was in mood for that Soany other suggest...\n",
      "5570    The guy did some bitching but I acted like id ...\n",
      "5571                            Rofl Its true to its name\n",
      "Name: v2, Length: 5572, dtype: object\n"
     ]
    }
   ],
   "source": [
    "print(df['v2'])"
   ]
  },
  {
   "cell_type": "markdown",
   "id": "e4120f80-3009-4801-ac6b-ee106180971c",
   "metadata": {},
   "source": [
    "# Lowercase"
   ]
  },
  {
   "cell_type": "code",
   "execution_count": 11,
   "id": "7eded2ea-5730-4d1c-a7e6-3f846258570f",
   "metadata": {
    "tags": []
   },
   "outputs": [
    {
     "name": "stdout",
     "output_type": "stream",
     "text": [
      "0       go until jurong point crazy available only in ...\n",
      "1                                 ok lar joking wif u oni\n",
      "2       free entry in 2 a wkly comp to win fa cup fina...\n",
      "3             u dun say so early hor u c already then say\n",
      "4       nah i dont think he goes to usf he lives aroun...\n",
      "                              ...                        \n",
      "5567    this is the 2nd time we have tried 2 contact u...\n",
      "5568                   will  b going to esplanade fr home\n",
      "5569    pity  was in mood for that soany other suggest...\n",
      "5570    the guy did some bitching but i acted like id ...\n",
      "5571                            rofl its true to its name\n",
      "Name: v2, Length: 5572, dtype: object\n"
     ]
    }
   ],
   "source": [
    "df['v2'] = df['v2'].str.lower()\n",
    "\n",
    "\n",
    "print(df['v2'])"
   ]
  },
  {
   "cell_type": "code",
   "execution_count": 12,
   "id": "c2cdaea5-e2cb-4e2b-b7bb-ee0c54eeaf0d",
   "metadata": {
    "tags": []
   },
   "outputs": [
    {
     "name": "stdout",
     "output_type": "stream",
     "text": [
      "0       go until jurong point crazy available only in ...\n",
      "1                                 ok lar joking wif u oni\n",
      "2       free entry in 2 a wkly comp to win fa cup fina...\n",
      "3             u dun say so early hor u c already then say\n",
      "4       nah i dont think he goes to usf he lives aroun...\n",
      "                              ...                        \n",
      "5567    this is the 2nd time we have tried 2 contact u...\n",
      "5568                    will b going to esplanade fr home\n",
      "5569    pity was in mood for that soany other suggestions\n",
      "5570    the guy did some bitching but i acted like id ...\n",
      "5571                            rofl its true to its name\n",
      "Name: v2, Length: 5572, dtype: object\n"
     ]
    }
   ],
   "source": [
    "def remove_extra_whitespace(text):\n",
    "    text = text.strip()\n",
    "    text = re.sub(r'\\s+', ' ', text)\n",
    "    return text\n",
    "df['v2'] = df['v2'].apply(remove_extra_whitespace)\n",
    "print(df['v2'])"
   ]
  },
  {
   "cell_type": "code",
   "execution_count": 13,
   "id": "b300da09-ffcd-43e9-9f14-875c2a9b08b7",
   "metadata": {
    "tags": []
   },
   "outputs": [
    {
     "name": "stderr",
     "output_type": "stream",
     "text": [
      "[nltk_data] Downloading package punkt to\n",
      "[nltk_data]     C:\\Users\\ihsan\\AppData\\Roaming\\nltk_data...\n",
      "[nltk_data]   Package punkt is already up-to-date!\n"
     ]
    },
    {
     "data": {
      "text/plain": [
       "True"
      ]
     },
     "execution_count": 13,
     "metadata": {},
     "output_type": "execute_result"
    }
   ],
   "source": [
    "import nltk\n",
    "nltk.download('punkt')"
   ]
  },
  {
   "cell_type": "code",
   "execution_count": 14,
   "id": "6a3e49f5-9418-40de-a730-760b02cc8b3a",
   "metadata": {
    "tags": []
   },
   "outputs": [
    {
     "name": "stdout",
     "output_type": "stream",
     "text": [
      "0       [go, until, jurong, point, crazy, available, o...\n",
      "1                          [ok, lar, joking, wif, u, oni]\n",
      "2       [free, entry, in, 2, a, wkly, comp, to, win, f...\n",
      "3       [u, dun, say, so, early, hor, u, c, already, t...\n",
      "4       [nah, i, dont, think, he, goes, to, usf, he, l...\n",
      "                              ...                        \n",
      "5567    [this, is, the, 2nd, time, we, have, tried, 2,...\n",
      "5568            [will, b, going, to, esplanade, fr, home]\n",
      "5569    [pity, was, in, mood, for, that, soany, other,...\n",
      "5570    [the, guy, did, some, bitching, but, i, acted,...\n",
      "5571                     [rofl, its, true, to, its, name]\n",
      "Name: v2, Length: 5572, dtype: object\n"
     ]
    }
   ],
   "source": [
    "from nltk.tokenize import word_tokenize\n",
    "df['v2'] = df['v2'].apply(word_tokenize)\n",
    "print(df['v2'])"
   ]
  },
  {
   "cell_type": "code",
   "execution_count": 15,
   "id": "d43d2c0b-cf64-45a1-894d-b235c4ed6733",
   "metadata": {
    "tags": []
   },
   "outputs": [
    {
     "name": "stderr",
     "output_type": "stream",
     "text": [
      "[nltk_data] Downloading package stopwords to\n",
      "[nltk_data]     C:\\Users\\ihsan\\AppData\\Roaming\\nltk_data...\n",
      "[nltk_data]   Package stopwords is already up-to-date!\n"
     ]
    }
   ],
   "source": [
    "from nltk.corpus import stopwords\n",
    "from nltk.tokenize import word_tokenize\n",
    "nltk.download('stopwords')\n",
    "stop_words = set(stopwords.words('english'))\n"
   ]
  },
  {
   "cell_type": "code",
   "execution_count": 16,
   "id": "a1bacc76-52ae-4dcc-aa37-53f7b8c3ffd2",
   "metadata": {
    "tags": []
   },
   "outputs": [],
   "source": [
    "df['v2'] = df['v2'].astype(str)\n",
    "def remove_stopwords(text):\n",
    "    tokens = word_tokenize(text)\n",
    "    filtered_tokens = [word for word in tokens if word.lower() not in stop_words]\n",
    "    filtered_text = ' '.join(filtered_tokens)\n",
    "    return filtered_text"
   ]
  },
  {
   "cell_type": "code",
   "execution_count": 17,
   "id": "50e3df91-3a2f-4b93-a6f8-ac414aae98db",
   "metadata": {
    "tags": []
   },
   "outputs": [
    {
     "name": "stdout",
     "output_type": "stream",
     "text": [
      "0       [ 'go ' , 'until ' , 'jurong ' , 'point ' , 'c...\n",
      "1       [ 'ok ' , 'lar ' , 'joking ' , 'wif ' , ' u ' ...\n",
      "2       [ 'free ' , 'entry ' , 'in ' , ' 2 ' , ' ' , '...\n",
      "3       [ ' u ' , 'dun ' , 'say ' , 'so ' , 'early ' ,...\n",
      "4       [ 'nah ' , ' ' , 'dont ' , 'think ' , 'he ' , ...\n",
      "                              ...                        \n",
      "5567    [ 'this ' , 'is ' , 'the ' , '2nd ' , 'time ' ...\n",
      "5568    [ 'will ' , ' b ' , 'going ' , 'to ' , 'esplan...\n",
      "5569    [ 'pity ' , 'was ' , 'in ' , 'mood ' , 'for ' ...\n",
      "5570    [ 'the ' , 'guy ' , 'did ' , 'some ' , 'bitchi...\n",
      "5571    [ 'rofl ' , 'its ' , 'true ' , 'to ' , 'its ' ...\n",
      "Name: v2, Length: 5572, dtype: object\n"
     ]
    }
   ],
   "source": [
    "df['v2'] = df['v2'].apply(remove_stopwords)\n",
    "print(df['v2'])"
   ]
  },
  {
   "cell_type": "markdown",
   "id": "76d4252f-f39e-4426-8e4d-963e999c49fa",
   "metadata": {},
   "source": [
    "# Menghapus kata yang tidak penting"
   ]
  },
  {
   "cell_type": "code",
   "execution_count": 18,
   "id": "926b53bd-b4a7-4a88-b020-5a90f7d2b180",
   "metadata": {
    "tags": []
   },
   "outputs": [],
   "source": [
    "from sklearn.feature_extraction.text import CountVectorizer\n",
    "vectorizer = CountVectorizer()\n",
    "\n",
    "word_counts = vectorizer.fit_transform(df['v2'])\n"
   ]
  },
  {
   "cell_type": "code",
   "execution_count": 19,
   "id": "d4c63e3e-7dc2-426d-8805-a8cd652ace18",
   "metadata": {
    "tags": []
   },
   "outputs": [],
   "source": [
    "unique_words = vectorizer.get_feature_names_out()\n",
    "\n",
    "\n",
    "low_frequency_words = [word for word in unique_words if word_counts[:, vectorizer.vocabulary_[word]].sum() <= 1]"
   ]
  },
  {
   "cell_type": "code",
   "execution_count": 20,
   "id": "dbf5c968-6ad8-4ebd-86e7-7d526d17c148",
   "metadata": {
    "tags": []
   },
   "outputs": [],
   "source": [
    "def remove_unimportant_words(text):\n",
    "    tokens = text.split()\n",
    "    filtered_tokens = [word for word in tokens if word not in low_frequency_words]\n",
    "    filtered_text = ' '.join(filtered_tokens)\n",
    "    return filtered_text"
   ]
  },
  {
   "cell_type": "code",
   "execution_count": 21,
   "id": "157d85b2-bd51-4077-8409-40f2b267b819",
   "metadata": {
    "tags": []
   },
   "outputs": [],
   "source": [
    "df['v2'] = df['v2'].apply(remove_unimportant_words)"
   ]
  },
  {
   "cell_type": "code",
   "execution_count": 22,
   "id": "583b9ad3-5d9e-4c0a-a17f-e9d270137a6d",
   "metadata": {
    "tags": []
   },
   "outputs": [
    {
     "name": "stdout",
     "output_type": "stream",
     "text": [
      "0       [ 'go ' , 'until ' , 'jurong ' , 'point ' , 'c...\n",
      "1       [ 'ok ' , 'lar ' , 'joking ' , 'wif ' , ' u ' ...\n",
      "2       [ 'free ' , 'entry ' , 'in ' , ' 2 ' , ' ' , '...\n",
      "3       [ ' u ' , 'dun ' , 'say ' , 'so ' , 'early ' ,...\n",
      "4       [ 'nah ' , ' ' , 'dont ' , 'think ' , 'he ' , ...\n",
      "                              ...                        \n",
      "5567    [ 'this ' , 'is ' , 'the ' , '2nd ' , 'time ' ...\n",
      "5568    [ 'will ' , ' b ' , 'going ' , 'to ' , 'esplan...\n",
      "5569    [ 'pity ' , 'was ' , 'in ' , 'mood ' , 'for ' ...\n",
      "5570    [ 'the ' , 'guy ' , 'did ' , 'some ' , 'bitchi...\n",
      "5571    [ 'rofl ' , 'its ' , 'true ' , 'to ' , 'its ' ...\n",
      "Name: v2, Length: 5572, dtype: object\n"
     ]
    }
   ],
   "source": [
    "print(df['v2'])"
   ]
  },
  {
   "cell_type": "markdown",
   "id": "2615ba33-967f-438f-83d2-7c95999e759d",
   "metadata": {},
   "source": [
    "# Lemmatization"
   ]
  },
  {
   "cell_type": "code",
   "execution_count": 23,
   "id": "2686f23e-6889-4baf-8723-32720b8e05dd",
   "metadata": {
    "tags": []
   },
   "outputs": [],
   "source": [
    "from nltk.stem import PorterStemmer, WordNetLemmatizer\n",
    "from nltk.tokenize import word_tokenize"
   ]
  },
  {
   "cell_type": "code",
   "execution_count": 24,
   "id": "f8dd11ac-d098-4c55-9ae6-89c73b020fe4",
   "metadata": {
    "tags": []
   },
   "outputs": [],
   "source": [
    "stemmer = PorterStemmer()\n",
    "lemmatizer = WordNetLemmatizer()\n",
    "\n",
    "\n",
    "def stem_text(text):\n",
    "    tokens = word_tokenize(text)\n",
    "    stemmed_tokens = [stemmer.stem(token) for token in tokens]\n",
    "    stemmed_text = ' '.join(stemmed_tokens)\n",
    "    return stemmed_text\n",
    "\n",
    "\n",
    "def lemmatize_text(text):\n",
    "    tokens = word_tokenize(text)\n",
    "    lemmatized_tokens = [lemmatizer.lemmatize(token) for token in tokens]\n",
    "    lemmatized_text = ' '.join(lemmatized_tokens)\n",
    "    return lemmatized_text"
   ]
  },
  {
   "cell_type": "code",
   "execution_count": 25,
   "id": "8837a7b7-4db6-4acc-9540-2ba66364744c",
   "metadata": {
    "tags": []
   },
   "outputs": [
    {
     "data": {
      "text/plain": [
       "0       [ 'go ' , 'until ' , 'jurong ' , 'point ' , 'c...\n",
       "1       [ 'ok ' , 'lar ' , 'joking ' , 'wif ' , ' u ' ...\n",
       "2       [ 'free ' , 'entry ' , 'in ' , ' 2 ' , ' ' , '...\n",
       "3       [ ' u ' , 'dun ' , 'say ' , 'so ' , 'early ' ,...\n",
       "4       [ 'nah ' , ' ' , 'dont ' , 'think ' , 'he ' , ...\n",
       "                              ...                        \n",
       "5567    [ 'this ' , 'is ' , 'the ' , '2nd ' , 'time ' ...\n",
       "5568    [ 'will ' , ' b ' , 'going ' , 'to ' , 'esplan...\n",
       "5569    [ 'pity ' , 'was ' , 'in ' , 'mood ' , 'for ' ...\n",
       "5570    [ 'the ' , 'guy ' , 'did ' , 'some ' , 'bitchi...\n",
       "5571    [ 'rofl ' , 'its ' , 'true ' , 'to ' , 'its ' ...\n",
       "Name: v2, Length: 5572, dtype: object"
      ]
     },
     "execution_count": 25,
     "metadata": {},
     "output_type": "execute_result"
    }
   ],
   "source": [
    "df['v2']"
   ]
  },
  {
   "cell_type": "code",
   "execution_count": 26,
   "id": "347e8b89-fd3d-47c5-832f-4be981ab4e68",
   "metadata": {
    "tags": []
   },
   "outputs": [],
   "source": [
    "df['v2'] = df['v2'].apply(stem_text)\n",
    "\n",
    "\n",
    "df['v2'] = df['v2'].apply(lemmatize_text)"
   ]
  },
  {
   "cell_type": "code",
   "execution_count": 27,
   "id": "32d3b629-760a-45ec-b791-527cec32f992",
   "metadata": {
    "tags": []
   },
   "outputs": [
    {
     "data": {
      "text/plain": [
       "0       [ 'go ' , 'until ' , 'jurong ' , 'point ' , 'c...\n",
       "1       [ 'ok ' , 'lar ' , 'joke ' , 'wif ' , ' u ' , ...\n",
       "2       [ 'free ' , 'entri ' , 'in ' , ' 2 ' , ' ' , '...\n",
       "3       [ ' u ' , 'dun ' , 'say ' , 'so ' , 'earli ' ,...\n",
       "4       [ 'nah ' , ' ' , 'dont ' , 'think ' , 'he ' , ...\n",
       "                              ...                        \n",
       "5567    [ 'thi ' , ' i ' , 'the ' , '2nd ' , 'time ' ,...\n",
       "5568    [ 'will ' , ' b ' , 'go ' , 'to ' , 'esplanad ...\n",
       "5569    [ 'piti ' , 'wa ' , 'in ' , 'mood ' , 'for ' ,...\n",
       "5570    [ 'the ' , 'guy ' , 'did ' , 'some ' , 'bitch ...\n",
       "5571    [ 'rofl ' , 'it ' , 'true ' , 'to ' , 'it ' , ...\n",
       "Name: v2, Length: 5572, dtype: object"
      ]
     },
     "execution_count": 27,
     "metadata": {},
     "output_type": "execute_result"
    }
   ],
   "source": [
    "df['v2']"
   ]
  },
  {
   "cell_type": "code",
   "execution_count": 28,
   "id": "01d65c20-0cf4-47d0-bfaf-f4cfcd7ef392",
   "metadata": {
    "tags": []
   },
   "outputs": [
    {
     "name": "stdout",
     "output_type": "stream",
     "text": [
      "Stemmed Text:\n",
      " 0       [ 'go ' , 'until ' , 'jurong ' , 'point ' , 'c...\n",
      "1       [ 'ok ' , 'lar ' , 'joke ' , 'wif ' , ' u ' , ...\n",
      "2       [ 'free ' , 'entri ' , 'in ' , ' 2 ' , ' ' , '...\n",
      "3       [ ' u ' , 'dun ' , 'say ' , 'so ' , 'earli ' ,...\n",
      "4       [ 'nah ' , ' ' , 'dont ' , 'think ' , 'he ' , ...\n",
      "                              ...                        \n",
      "5567    [ 'thi ' , ' i ' , 'the ' , '2nd ' , 'time ' ,...\n",
      "5568    [ 'will ' , ' b ' , 'go ' , 'to ' , 'esplanad ...\n",
      "5569    [ 'piti ' , 'wa ' , 'in ' , 'mood ' , 'for ' ,...\n",
      "5570    [ 'the ' , 'guy ' , 'did ' , 'some ' , 'bitch ...\n",
      "5571    [ 'rofl ' , 'it ' , 'true ' , 'to ' , 'it ' , ...\n",
      "Name: v2, Length: 5572, dtype: object\n",
      "\n",
      "Lemmatized Text:\n",
      " 0       [ 'go ' , 'until ' , 'jurong ' , 'point ' , 'c...\n",
      "1       [ 'ok ' , 'lar ' , 'joke ' , 'wif ' , ' u ' , ...\n",
      "2       [ 'free ' , 'entri ' , 'in ' , ' 2 ' , ' ' , '...\n",
      "3       [ ' u ' , 'dun ' , 'say ' , 'so ' , 'earli ' ,...\n",
      "4       [ 'nah ' , ' ' , 'dont ' , 'think ' , 'he ' , ...\n",
      "                              ...                        \n",
      "5567    [ 'thi ' , ' i ' , 'the ' , '2nd ' , 'time ' ,...\n",
      "5568    [ 'will ' , ' b ' , 'go ' , 'to ' , 'esplanad ...\n",
      "5569    [ 'piti ' , 'wa ' , 'in ' , 'mood ' , 'for ' ,...\n",
      "5570    [ 'the ' , 'guy ' , 'did ' , 'some ' , 'bitch ...\n",
      "5571    [ 'rofl ' , 'it ' , 'true ' , 'to ' , 'it ' , ...\n",
      "Name: v2, Length: 5572, dtype: object\n"
     ]
    }
   ],
   "source": [
    "print(\"Stemmed Text:\\n\", df['v2'])\n",
    "print(\"\\nLemmatized Text:\\n\", df['v2'])"
   ]
  },
  {
   "cell_type": "markdown",
   "id": "51105c8c-74b6-4c31-a250-4196934dec05",
   "metadata": {
    "tags": []
   },
   "source": [
    "#STEP CLEANING SELESAI"
   ]
  },
  {
   "cell_type": "code",
   "execution_count": 71,
   "id": "cf72404b-8660-478e-854b-2102dfdc6b06",
   "metadata": {},
   "outputs": [],
   "source": [
    "\n",
    "from sklearn.model_selection import train_test_split\n",
    "from imblearn.over_sampling import RandomOverSampler\n",
    "x = df.drop(columns = ['Worthit.1'], axis = 1) # Independent Features\n",
    "y = df['Worthit.1'] # Target Feature\n",
    "over = RandomOverSampler(sampling_strategy = 0.6, random_state = 42)\n",
    "os_x, os_y = over.fit_resample(x, y)\n"
   ]
  },
  {
   "cell_type": "code",
   "execution_count": 34,
   "id": "8a3ed39a-3bef-40bd-95ad-5b0ee513e373",
   "metadata": {},
   "outputs": [],
   "source": [
    "os_x=df[\"v2\"]\n",
    "os_y=df[\"v1\"]"
   ]
  },
  {
   "cell_type": "code",
   "execution_count": 37,
   "id": "80c22d3d-9269-45cd-ad3a-32870dbf4f09",
   "metadata": {},
   "outputs": [
    {
     "data": {
      "text/plain": [
       "0        ham\n",
       "1        ham\n",
       "2       spam\n",
       "3        ham\n",
       "4        ham\n",
       "        ... \n",
       "5567    spam\n",
       "5568     ham\n",
       "5569     ham\n",
       "5570     ham\n",
       "5571     ham\n",
       "Name: v1, Length: 5572, dtype: object"
      ]
     },
     "execution_count": 37,
     "metadata": {},
     "output_type": "execute_result"
    }
   ],
   "source": [
    "os_y"
   ]
  },
  {
   "cell_type": "code",
   "execution_count": 38,
   "id": "acf9d487-90ba-4ba6-96b2-a29567e4b0d6",
   "metadata": {
    "tags": []
   },
   "outputs": [
    {
     "data": {
      "text/plain": [
       "array([0, 0, 1, ..., 0, 0, 0])"
      ]
     },
     "execution_count": 38,
     "metadata": {},
     "output_type": "execute_result"
    }
   ],
   "source": [
    "from sklearn.preprocessing import LabelEncoder\n",
    "label_encoder = LabelEncoder()\n",
    "\n",
    "\n",
    "encoded_data = label_encoder.fit_transform(os_y)\n",
    "encoded_data"
   ]
  },
  {
   "cell_type": "code",
   "execution_count": 31,
   "id": "8dfab3a1-78e2-4ded-be55-2a25103be5e1",
   "metadata": {
    "tags": []
   },
   "outputs": [],
   "source": [
    "new=os_x\n",
    "labels = encoded_data"
   ]
  },
  {
   "cell_type": "code",
   "execution_count": 45,
   "id": "c59d36e1-8462-4381-82c1-1f09489eff23",
   "metadata": {},
   "outputs": [
    {
     "data": {
      "text/plain": [
       "3534     [ 'im ' , 'at ' , 'home ' , 'pleas ' , 'call ' ]\n",
       "2578    [ 'erm ' , ' ' , 'thought ' , 'the ' , 'contra...\n",
       "214     [ 'sound ' , 'great ' , 'are ' , 'you ' , 'hom...\n",
       "292        [ 'oop ' , ' 4 ' , 'got ' , 'that ' , 'bit ' ]\n",
       "1713    [ 'hard ' , 'live ' , '121 ' , 'chat ' , 'just...\n",
       "                              ...                        \n",
       "522     [ 'were ' , 'gon ' , 'na ' , 'go ' , 'get ' , ...\n",
       "2259    [ 'ill ' , 'call ' , 'you ' , 'even ' , 'ill '...\n",
       "2982    [ 'what ' , 'should ' , ' ' , 'eat ' , 'fo ' ,...\n",
       "5308    [ 'im ' , 'come ' , 'back ' , 'on ' , 'thursda...\n",
       "1199    [ 'neft ' , 'transact ' , 'with ' , 'refer ' ,...\n",
       "Name: v2, Length: 4457, dtype: object"
      ]
     },
     "execution_count": 45,
     "metadata": {},
     "output_type": "execute_result"
    }
   ],
   "source": [
    "X_train"
   ]
  },
  {
   "cell_type": "code",
   "execution_count": 39,
   "id": "2f7e107b-b7bb-49a4-9638-1a20210a6ab7",
   "metadata": {
    "tags": []
   },
   "outputs": [],
   "source": [
    "import tensorflow as tf\n",
    "from tensorflow.keras.models import Sequential\n",
    "from tensorflow.keras.layers import Embedding, LSTM, Dense\n",
    "from sklearn.model_selection import train_test_split\n",
    "from tensorflow.keras.preprocessing.text import Tokenizer\n",
    "from tensorflow.keras.preprocessing.sequence import pad_sequences\n",
    "\n",
    "\n",
    "texts = os_x\n",
    "\n",
    "labels = encoded_data\n",
    "\n",
    "X_train, X_test, y_train, y_test = train_test_split(texts, labels, test_size=0.2, random_state=80)\n",
    "\n",
    "\n",
    "\n"
   ]
  },
  {
   "cell_type": "code",
   "execution_count": 40,
   "id": "b30945ae-b3f5-4450-95af-85025987388c",
   "metadata": {
    "tags": []
   },
   "outputs": [],
   "source": [
    "\n",
    "tokenizer = Tokenizer()\n",
    "tokenizer.fit_on_texts(X_train)\n",
    "vocab_size = len(tokenizer.word_index) + 1\n",
    "embedding_dim = 100\n",
    "\n",
    "\n",
    "embedding_layer = Embedding(vocab_size, embedding_dim)\n",
    "\n",
    "train_sequences = tokenizer.texts_to_sequences(X_train)\n",
    "test_sequences = tokenizer.texts_to_sequences(X_test)\n",
    "\n",
    "\n",
    "max_length = 100\n",
    "train_sequences = pad_sequences(train_sequences, maxlen=max_length, padding='post')\n",
    "test_sequences = pad_sequences(test_sequences, maxlen=max_length, padding='post')"
   ]
  },
  {
   "cell_type": "code",
   "execution_count": 48,
   "id": "5cb83ef1-551e-4f0d-8c38-e2498c31827b",
   "metadata": {
    "tags": []
   },
   "outputs": [
    {
     "name": "stdout",
     "output_type": "stream",
     "text": [
      "Epoch 1/10\n",
      "140/140 [==============================] - 14s 64ms/step - loss: 2.5579 - accuracy: 0.8645 - val_loss: 0.8192 - val_accuracy: 0.8717\n",
      "Epoch 2/10\n",
      "140/140 [==============================] - 8s 60ms/step - loss: 0.4416 - accuracy: 0.9313 - val_loss: 0.2956 - val_accuracy: 0.9650\n",
      "Epoch 3/10\n",
      "140/140 [==============================] - 8s 60ms/step - loss: 0.2127 - accuracy: 0.9861 - val_loss: 0.2178 - val_accuracy: 0.9749\n",
      "Epoch 4/10\n",
      "140/140 [==============================] - 8s 58ms/step - loss: 0.1650 - accuracy: 0.9926 - val_loss: 0.1914 - val_accuracy: 0.9776\n",
      "Epoch 5/10\n",
      "140/140 [==============================] - 8s 59ms/step - loss: 0.1446 - accuracy: 0.9953 - val_loss: 0.2006 - val_accuracy: 0.9686\n",
      "Epoch 6/10\n",
      "140/140 [==============================] - 8s 60ms/step - loss: 0.1309 - accuracy: 0.9973 - val_loss: 0.1777 - val_accuracy: 0.9749\n",
      "Epoch 7/10\n",
      "140/140 [==============================] - 8s 59ms/step - loss: 0.1208 - accuracy: 0.9987 - val_loss: 0.1786 - val_accuracy: 0.9713\n",
      "Epoch 8/10\n",
      "140/140 [==============================] - 8s 58ms/step - loss: 0.1118 - accuracy: 0.9989 - val_loss: 0.1651 - val_accuracy: 0.9749\n",
      "Epoch 9/10\n",
      "140/140 [==============================] - 8s 58ms/step - loss: 0.1048 - accuracy: 0.9989 - val_loss: 0.1791 - val_accuracy: 0.9731\n",
      "Epoch 10/10\n",
      "140/140 [==============================] - 8s 58ms/step - loss: 0.0985 - accuracy: 0.9991 - val_loss: 0.1628 - val_accuracy: 0.9722\n"
     ]
    },
    {
     "data": {
      "text/plain": [
       "<keras.callbacks.History at 0x21f2d500160>"
      ]
     },
     "execution_count": 48,
     "metadata": {},
     "output_type": "execute_result"
    }
   ],
   "source": [
    "import tensorflow as tf\n",
    "from tensorflow.keras.layers import Embedding, Conv1D, GlobalMaxPooling1D, Dense, Dropout\n",
    "from tensorflow.keras.models import Sequential\n",
    "from tensorflow.keras.callbacks import EarlyStopping\n",
    "\n",
    "# Buat model\n",
    "model = Sequential()\n",
    "model.add(Embedding(input_dim=vocab_size, output_dim=embedding_dim, input_length=max_length))\n",
    "model.add(Conv1D(filters=256, kernel_size=8, activation='relu'))\n",
    "model.add(GlobalMaxPooling1D())\n",
    "model.add(Dense(units=64, activation='relu', kernel_regularizer=tf.keras.regularizers.l2(0.01)))\n",
    "model.add(Dropout(0.5))\n",
    "model.add(Dense(units=128, activation='relu', kernel_regularizer=tf.keras.regularizers.l2(0.01)))\n",
    "model.add(Dropout(0.5))\n",
    "model.add(Dense(units=64, activation='relu', kernel_regularizer=tf.keras.regularizers.l2(0.01)))\n",
    "model.add(Dense(units=64, activation='relu', kernel_regularizer=tf.keras.regularizers.l2(0.01)))\n",
    "model.add(Dense(units=64, activation='relu', kernel_regularizer=tf.keras.regularizers.l2(0.01)))\n",
    "model.add(Dense(units=64, activation='relu', kernel_regularizer=tf.keras.regularizers.l2(0.01)))\n",
    "model.add(Dense(units=64, activation='relu', kernel_regularizer=tf.keras.regularizers.l2(0.01)))\n",
    "model.add(Dense(units=1, activation='sigmoid'))\n",
    "\n",
    "\n",
    "model.compile(optimizer='adam', loss='binary_crossentropy', metrics=['accuracy'])\n",
    "\n",
    "\n",
    "early_stopping = EarlyStopping(monitor='val_loss', patience=3)\n",
    "\n",
    "\n",
    "model.fit(train_sequences, y_train, validation_data=(test_sequences, y_test), epochs=10, batch_size=64, callbacks=[early_stopping])\n"
   ]
  },
  {
   "cell_type": "code",
   "execution_count": 42,
   "id": "e764d26d-0673-44d6-b620-a66ed693823b",
   "metadata": {},
   "outputs": [
    {
     "name": "stdout",
     "output_type": "stream",
     "text": [
      "Epoch 1/25\n",
      "140/140 [==============================] - 9s 38ms/step - loss: 0.3423 - accuracy: 0.8629 - val_loss: 0.1508 - val_accuracy: 0.8717\n",
      "Epoch 2/25\n",
      "140/140 [==============================] - 5s 34ms/step - loss: 0.0868 - accuracy: 0.9677 - val_loss: 0.0753 - val_accuracy: 0.9821\n",
      "Epoch 3/25\n",
      "140/140 [==============================] - 5s 34ms/step - loss: 0.0164 - accuracy: 0.9966 - val_loss: 0.0919 - val_accuracy: 0.9821\n",
      "Epoch 4/25\n",
      "140/140 [==============================] - 5s 34ms/step - loss: 0.0052 - accuracy: 0.9987 - val_loss: 0.0893 - val_accuracy: 0.9830\n",
      "Epoch 5/25\n",
      "140/140 [==============================] - 5s 34ms/step - loss: 0.0012 - accuracy: 0.9998 - val_loss: 0.1189 - val_accuracy: 0.9830\n",
      "Epoch 6/25\n",
      "140/140 [==============================] - 5s 34ms/step - loss: 5.1588e-04 - accuracy: 1.0000 - val_loss: 0.1146 - val_accuracy: 0.9776\n",
      "Epoch 7/25\n",
      "140/140 [==============================] - 5s 34ms/step - loss: 0.0012 - accuracy: 0.9996 - val_loss: 0.1296 - val_accuracy: 0.9812\n",
      "Epoch 8/25\n",
      "140/140 [==============================] - 5s 33ms/step - loss: 0.0100 - accuracy: 0.9980 - val_loss: 0.1084 - val_accuracy: 0.9812\n",
      "Epoch 9/25\n",
      "140/140 [==============================] - 5s 34ms/step - loss: 0.0021 - accuracy: 0.9996 - val_loss: 0.1362 - val_accuracy: 0.9848\n",
      "Epoch 10/25\n",
      "140/140 [==============================] - 5s 34ms/step - loss: 4.7362e-04 - accuracy: 0.9998 - val_loss: 0.1457 - val_accuracy: 0.9848\n",
      "Epoch 11/25\n",
      "140/140 [==============================] - 5s 34ms/step - loss: 1.3947e-04 - accuracy: 1.0000 - val_loss: 0.1697 - val_accuracy: 0.9839\n",
      "Epoch 12/25\n",
      "140/140 [==============================] - 5s 35ms/step - loss: 1.1203e-04 - accuracy: 1.0000 - val_loss: 0.1673 - val_accuracy: 0.9839\n",
      "Epoch 13/25\n",
      "140/140 [==============================] - 5s 35ms/step - loss: 1.0015e-04 - accuracy: 1.0000 - val_loss: 0.1750 - val_accuracy: 0.9839\n",
      "Epoch 14/25\n",
      "140/140 [==============================] - 5s 34ms/step - loss: 6.2437e-05 - accuracy: 1.0000 - val_loss: 0.1743 - val_accuracy: 0.9839\n",
      "Epoch 15/25\n",
      "140/140 [==============================] - 5s 35ms/step - loss: 3.8959e-05 - accuracy: 1.0000 - val_loss: 0.1754 - val_accuracy: 0.9839\n",
      "Epoch 16/25\n",
      "140/140 [==============================] - 5s 36ms/step - loss: 2.3729e-05 - accuracy: 1.0000 - val_loss: 0.1796 - val_accuracy: 0.9839\n",
      "Epoch 17/25\n",
      "140/140 [==============================] - 5s 34ms/step - loss: 5.4430e-05 - accuracy: 1.0000 - val_loss: 0.1825 - val_accuracy: 0.9839\n",
      "Epoch 18/25\n",
      "140/140 [==============================] - 5s 38ms/step - loss: 4.8201e-05 - accuracy: 1.0000 - val_loss: 0.2154 - val_accuracy: 0.9839\n",
      "Epoch 19/25\n",
      "140/140 [==============================] - 5s 36ms/step - loss: 3.5912e-05 - accuracy: 1.0000 - val_loss: 0.2125 - val_accuracy: 0.9839\n",
      "Epoch 20/25\n",
      "140/140 [==============================] - 5s 36ms/step - loss: 4.6274e-05 - accuracy: 1.0000 - val_loss: 0.1904 - val_accuracy: 0.9839\n",
      "Epoch 21/25\n",
      "140/140 [==============================] - 5s 36ms/step - loss: 5.7283e-05 - accuracy: 1.0000 - val_loss: 0.1681 - val_accuracy: 0.9821\n",
      "Epoch 22/25\n",
      "140/140 [==============================] - 5s 35ms/step - loss: 2.3225e-05 - accuracy: 1.0000 - val_loss: 0.1770 - val_accuracy: 0.9821\n",
      "Epoch 23/25\n",
      "140/140 [==============================] - 5s 35ms/step - loss: 1.8858e-05 - accuracy: 1.0000 - val_loss: 0.1813 - val_accuracy: 0.9821\n",
      "Epoch 24/25\n",
      "140/140 [==============================] - 5s 35ms/step - loss: 6.0572e-06 - accuracy: 1.0000 - val_loss: 0.1834 - val_accuracy: 0.9821\n",
      "Epoch 25/25\n",
      "140/140 [==============================] - 5s 35ms/step - loss: 1.7248e-05 - accuracy: 1.0000 - val_loss: 0.1919 - val_accuracy: 0.9839\n",
      "35/35 [==============================] - 0s 12ms/step - loss: 0.1919 - accuracy: 0.9839\n",
      "Loss: 0.19194766879081726\n",
      "Accuracy: 0.9838564991950989\n"
     ]
    },
    {
     "data": {
      "image/png": "[encoded data removed]",
      "text/plain": [
       "<Figure size 1000x600 with 1 Axes>"
      ]
     },
     "metadata": {},
     "output_type": "display_data"
    },
    {
     "data": {
      "image/png": "[encoded data removed]",
      "text/plain": [
       "<Figure size 1000x600 with 1 Axes>"
      ]
     },
     "metadata": {},
     "output_type": "display_data"
    }
   ],
   "source": [
    "import matplotlib.pyplot as plt\n",
    "\n",
    "\n",
    "history = model.fit(train_sequences, y_train, validation_data=(test_sequences, y_test), epochs=25, batch_size=32)\n",
    "\n",
    "\n",
    "loss, accuracy = model.evaluate(test_sequences, y_test)\n",
    "print(\"Loss:\", loss)\n",
    "print(\"Accuracy:\", accuracy)\n",
    "\n",
    "\n",
    "plt.figure(figsize=(10, 6))\n",
    "plt.plot(history.history['loss'], label='Train Loss')\n",
    "plt.plot(history.history['val_loss'], label='Validation Loss')\n",
    "plt.title('Model Loss')\n",
    "plt.xlabel('Epochs')\n",
    "plt.ylabel('Loss')\n",
    "plt.legend()\n",
    "plt.show()\n",
    "\n",
    "\n",
    "plt.figure(figsize=(10, 6))\n",
    "plt.plot(history.history['accuracy'], label='Train Accuracy')\n",
    "plt.plot(history.history['val_accuracy'], label='Validation Accuracy')\n",
    "plt.title('Model Accuracy')\n",
    "plt.xlabel('Epochs')\n",
    "plt.ylabel('Accuracy')\n",
    "plt.legend()\n",
    "plt.show()\n"
   ]
  },
  {
   "cell_type": "code",
   "execution_count": 36,
   "id": "7a1ee14c-b7e6-41e0-9d6d-7fb8bff4d53d",
   "metadata": {
    "tags": []
   },
   "outputs": [
    {
     "name": "stdout",
     "output_type": "stream",
     "text": [
      "4/4 [==============================] - 0s 6ms/step - loss: 0.4250 - accuracy: 0.8710\n"
     ]
    },
    {
     "data": {
      "text/plain": [
       "[0.4249618947505951, 0.8709677457809448]"
      ]
     },
     "execution_count": 36,
     "metadata": {},
     "output_type": "execute_result"
    }
   ],
   "source": [
    "model.evaluate(test_sequences, y_test)"
   ]
  },
  {
   "cell_type": "code",
   "execution_count": 41,
   "id": "cb31941e-5356-4261-bba4-0df9418f03c7",
   "metadata": {},
   "outputs": [
    {
     "name": "stdout",
     "output_type": "stream",
     "text": [
      "4/4 [==============================] - 0s 9ms/step - loss: 0.3139 - accuracy: 0.9355\n"
     ]
    },
    {
     "data": {
      "text/plain": [
       "[0.3138729929924011, 0.9354838728904724]"
      ]
     },
     "execution_count": 41,
     "metadata": {},
     "output_type": "execute_result"
    }
   ],
   "source": [
    "model.evaluate(test_sequences, y_test)"
   ]
  },
  {
   "cell_type": "markdown",
   "id": "5678ee99-fdb6-42b4-9238-7cd1d0729049",
   "metadata": {},
   "source": [
    "# Konversi ke TFLite"
   ]
  },
  {
   "cell_type": "code",
   "execution_count": 37,
   "id": "0ed934ed-aa8f-4632-8d92-ebd626258867",
   "metadata": {
    "tags": []
   },
   "outputs": [],
   "source": [
    "model.save(\"C:/Users/ihsan/MyModel/model.h5\")"
   ]
  },
  {
   "cell_type": "code",
   "execution_count": null,
   "id": "074f0b50-ce2f-4e90-80a7-8f7b1013ba97",
   "metadata": {},
   "outputs": [],
   "source": [
    "tf.saved_model.save(model, \"shard.bin\")"
   ]
  },
  {
   "cell_type": "code",
   "execution_count": null,
   "id": "5824249c-5bd6-4912-a103-1ab2cad331c5",
   "metadata": {
    "tags": []
   },
   "outputs": [],
   "source": [
    "with open(\"model.tflite\", \"wb\") as f:\n",
    "    f.write(tflite_model)"
   ]
  },
  {
   "cell_type": "code",
   "execution_count": null,
   "id": "4bd32c50-9608-483e-8950-8081c352da44",
   "metadata": {
    "tags": []
   },
   "outputs": [],
   "source": [
    "import tensorflow as tf\n",
    "from tensorflow.keras.models import Sequential\n",
    "from tensorflow.keras.layers import Embedding, LSTM, Dense\n",
    "from tensorflow.keras.optimizers import Adam\n",
    "\n",
    "converter = tf.lite.TFLiteConverter.from_keras_model(model)\n",
    "tflite_model = converter.convert()"
   ]
  }
 ],
 "metadata": {
  "kernelspec": {
   "display_name": "Python 3 (ipykernel)",
   "language": "python",
   "name": "python3"
  },
  "language_info": {
   "codemirror_mode": {
    "name": "ipython",
    "version": 3
   },
   "file_extension": ".py",
   "mimetype": "text/x-python",
   "name": "python",
   "nbconvert_exporter": "python",
   "pygments_lexer": "ipython3",
   "version": "3.10.10"
  }
 },
 "nbformat": 4,
 "nbformat_minor": 5
}
